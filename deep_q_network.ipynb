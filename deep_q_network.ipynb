{
 "cells": [
  {
   "cell_type": "markdown",
   "metadata": {},
   "source": [
    "## 환경 (environment)\n"
   ]
  },
  {
   "cell_type": "code",
   "execution_count": 2,
   "metadata": {},
   "outputs": [],
   "source": [
    "import numpy as np\n",
    "\n",
    "import keras\n",
    "\n",
    "import tensorflow as tf\n",
    "\n",
    "from IPython.display import display\n"
   ]
  },
  {
   "cell_type": "code",
   "execution_count": 3,
   "metadata": {},
   "outputs": [
    {
     "name": "stdout",
     "output_type": "stream",
     "text": [
      "[name: \"/device:CPU:0\"\n",
      "device_type: \"CPU\"\n",
      "memory_limit: 268435456\n",
      "locality {\n",
      "}\n",
      "incarnation: 12628170648474403476\n",
      ", name: \"/device:XLA_CPU:0\"\n",
      "device_type: \"XLA_CPU\"\n",
      "memory_limit: 17179869184\n",
      "locality {\n",
      "}\n",
      "incarnation: 9467639796206380549\n",
      "physical_device_desc: \"device: XLA_CPU device\"\n",
      ", name: \"/device:GPU:0\"\n",
      "device_type: \"GPU\"\n",
      "memory_limit: 4817616896\n",
      "locality {\n",
      "  bus_id: 1\n",
      "  links {\n",
      "  }\n",
      "}\n",
      "incarnation: 16460691116382994686\n",
      "physical_device_desc: \"device: 0, name: GeForce RTX 2060, pci bus id: 0000:01:00.0, compute capability: 7.5\"\n",
      ", name: \"/device:XLA_GPU:0\"\n",
      "device_type: \"XLA_GPU\"\n",
      "memory_limit: 17179869184\n",
      "locality {\n",
      "}\n",
      "incarnation: 15670257703267368290\n",
      "physical_device_desc: \"device: XLA_GPU device\"\n",
      "]\n"
     ]
    }
   ],
   "source": [
    "from tensorflow.python.client import device_lib\n",
    "\n",
    "print(device_lib.list_local_devices())\n"
   ]
  },
  {
   "cell_type": "code",
   "execution_count": 4,
   "metadata": {},
   "outputs": [
    {
     "ename": "AttributeError",
     "evalue": "module 'keras.backend' has no attribute 'tensorflow_backend'",
     "output_type": "error",
     "traceback": [
      "\u001b[1;31m---------------------------------------------------------------------------\u001b[0m",
      "\u001b[1;31mAttributeError\u001b[0m                            Traceback (most recent call last)",
      "\u001b[1;32m<ipython-input-4-73936b46986e>\u001b[0m in \u001b[0;36m<module>\u001b[1;34m\u001b[0m\n\u001b[0;32m      1\u001b[0m \u001b[1;32mfrom\u001b[0m \u001b[0mkeras\u001b[0m \u001b[1;32mimport\u001b[0m \u001b[0mbackend\u001b[0m \u001b[1;32mas\u001b[0m \u001b[0mK\u001b[0m\u001b[1;33m\u001b[0m\u001b[0m\n\u001b[0;32m      2\u001b[0m \u001b[1;33m\u001b[0m\u001b[0m\n\u001b[1;32m----> 3\u001b[1;33m \u001b[0mK\u001b[0m\u001b[1;33m.\u001b[0m\u001b[0mtensorflow_backend\u001b[0m\u001b[1;33m.\u001b[0m\u001b[0m_get_available_gpus\u001b[0m\u001b[1;33m(\u001b[0m\u001b[1;33m)\u001b[0m\u001b[1;33m\u001b[0m\u001b[0m\n\u001b[0m",
      "\u001b[1;31mAttributeError\u001b[0m: module 'keras.backend' has no attribute 'tensorflow_backend'"
     ]
    }
   ],
   "source": [
    "from keras import backend as K\n",
    "\n",
    "K.tensorflow_backend._get_available_gpus()\n"
   ]
  },
  {
   "cell_type": "code",
   "execution_count": 5,
   "metadata": {},
   "outputs": [
    {
     "name": "stdout",
     "output_type": "stream",
     "text": [
      "[name: \"/device:CPU:0\"\n",
      "device_type: \"CPU\"\n",
      "memory_limit: 268435456\n",
      "locality {\n",
      "}\n",
      "incarnation: 2083293215273327692\n",
      ", name: \"/device:XLA_CPU:0\"\n",
      "device_type: \"XLA_CPU\"\n",
      "memory_limit: 17179869184\n",
      "locality {\n",
      "}\n",
      "incarnation: 7246897223163845609\n",
      "physical_device_desc: \"device: XLA_CPU device\"\n",
      ", name: \"/device:GPU:0\"\n",
      "device_type: \"GPU\"\n",
      "memory_limit: 4817616896\n",
      "locality {\n",
      "  bus_id: 1\n",
      "  links {\n",
      "  }\n",
      "}\n",
      "incarnation: 6004682196931910329\n",
      "physical_device_desc: \"device: 0, name: GeForce RTX 2060, pci bus id: 0000:01:00.0, compute capability: 7.5\"\n",
      ", name: \"/device:XLA_GPU:0\"\n",
      "device_type: \"XLA_GPU\"\n",
      "memory_limit: 17179869184\n",
      "locality {\n",
      "}\n",
      "incarnation: 5220045326660098101\n",
      "physical_device_desc: \"device: XLA_GPU device\"\n",
      "]\n"
     ]
    }
   ],
   "source": [
    "from tensorflow.python.client import device_lib\n",
    "\n",
    "print(device_lib.list_local_devices())"
   ]
  },
  {
   "cell_type": "code",
   "execution_count": 7,
   "metadata": {},
   "outputs": [
    {
     "name": "stdout",
     "output_type": "stream",
     "text": [
      "Epoch 1/3\n",
      "7/7 [==============================] - 1s 140ms/step - loss: 234.9495\n",
      "Epoch 2/3\n",
      "7/7 [==============================] - 0s 49ms/step - loss: 240.3979\n",
      "Epoch 3/3\n",
      "7/7 [==============================] - 0s 51ms/step - loss: 242.4021\n"
     ]
    }
   ],
   "source": [
    "import tensorflow as tf\n",
    "from keras.applications import Xception\n",
    "from keras.utils import multi_gpu_model\n",
    "import numpy as np\n",
    "\n",
    "# 원래 예제는 샘플이 1000개 이지만 빨리 돌려보기 위해 100개로 줄였다.\n",
    "# 가로세로도 224에서 최소 사이즈인 71로 줄였다.\n",
    "# 원래 예제로 돌리면 메모리와 CPU가 지쳐버려서 끝까지 실행되지 않는다.\n",
    "num_samples = 100\n",
    "height = 71\n",
    "width = 71\n",
    "num_classes = 100\n",
    "\n",
    "import datetime\n",
    "\n",
    "start = datetime.datetime.now()\n",
    "with tf.device('/gpu:0'):\n",
    "  model = Xception(weights=None,\n",
    "                   input_shape=(height, width, 3),\n",
    "                   classes=num_classes)\n",
    "  model.compile(loss='categorical_crossentropy',\n",
    "                     optimizer='rmsprop')\n",
    "\n",
    "  # Generate dummy data.\n",
    "  x = np.random.random((num_samples, height, width, 3))\n",
    "  y = np.random.random((num_samples, num_classes))\n",
    "\n",
    "  # This `fit` call will be distributed on 8 GPUs.\n",
    "  # Since the batch size is 256, each GPU will process 32 samples.\n",
    "  # model.fit(x, y, epochs=10, batch_size=256)\n",
    "  model.fit(x, y, epochs=3, batch_size=16)\n",
    "\n",
    "  # Save model via the template model (which shares the same weights):\n",
    "  model.save('my_model.h5')\n",
    "  \n",
    "  \n",
    "end = datetime.datetime.now()\n",
    "time_delta = end - start"
   ]
  },
  {
   "cell_type": "code",
   "execution_count": 8,
   "metadata": {},
   "outputs": [
    {
     "name": "stdout",
     "output_type": "stream",
     "text": [
      "Epoch 1/3\n",
      "7/7 [==============================] - 3s 486ms/step - loss: 236.1903\n",
      "Epoch 2/3\n",
      "7/7 [==============================] - 3s 495ms/step - loss: 242.9418\n",
      "Epoch 3/3\n",
      "7/7 [==============================] - 3s 492ms/step - loss: 243.0406\n"
     ]
    }
   ],
   "source": [
    "start = datetime.datetime.now()\n",
    "with tf.device('/cpu:0'):\n",
    "  model = Xception(weights=None,\n",
    "                   input_shape=(height, width, 3),\n",
    "                   classes=num_classes)\n",
    "  model.compile(loss='categorical_crossentropy',\n",
    "                     optimizer='rmsprop')\n",
    "\n",
    "  # Generate dummy data.\n",
    "  x = np.random.random((num_samples, height, width, 3))\n",
    "  y = np.random.random((num_samples, num_classes))\n",
    "\n",
    "  # This `fit` call will be distributed on 8 GPUs.\n",
    "  # Since the batch size is 256, each GPU will process 32 samples.\n",
    "  # model.fit(x, y, epochs=10, batch_size=256)\n",
    "  model.fit(x, y, epochs=3, batch_size=16)\n",
    "\n",
    "  # Save model via the template model (which shares the same weights):\n",
    "  model.save('my_model.h5')\n",
    "  \n",
    "  \n",
    "end = datetime.datetime.now()\n",
    "time_delta = end - start"
   ]
  },
  {
   "cell_type": "code",
   "execution_count": null,
   "metadata": {},
   "outputs": [],
   "source": []
  }
 ],
 "metadata": {
  "kernelspec": {
   "display_name": "Python 3",
   "language": "python",
   "name": "python3"
  },
  "language_info": {
   "codemirror_mode": {
    "name": "ipython",
    "version": 3
   },
   "file_extension": ".py",
   "mimetype": "text/x-python",
   "name": "python",
   "nbconvert_exporter": "python",
   "pygments_lexer": "ipython3",
   "version": "3.6.6"
  }
 },
 "nbformat": 4,
 "nbformat_minor": 4
}
